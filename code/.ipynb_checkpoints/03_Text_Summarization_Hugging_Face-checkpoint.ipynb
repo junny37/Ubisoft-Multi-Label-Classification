{
 "cells": [
  {
   "cell_type": "markdown",
   "id": "1091509c-7e0d-4d19-82bd-a41d1de2ec41",
   "metadata": {},
   "source": [
    "<img src=\"http://imgur.com/1ZcRyrc.png\" style=\"float: left; margin: 20px; height: 55px\">\n",
    "\n",
    "# CAPSTONE : Ubisoft's Skull & Bones"
   ]
  },
  {
   "cell_type": "markdown",
   "id": "ed277b08-ef68-4e0d-b625-83f12596d9db",
   "metadata": {},
   "source": [
    "# Part 3 – Text Summarization: Hugging Face"
   ]
  },
  {
   "cell_type": "markdown",
   "id": "78ed0580-ec9d-4ed8-86af-69725bf62e1a",
   "metadata": {},
   "source": [
    "As part of our experimentation, we will attempt to perform text summarization on our reviews to give a more concise description of each review, so that it will be clearer for our multi-label classification model.\n",
    "\n",
    "We will be performing text summarization using the Large Language Models in the Hugging Face library as part of our unsupervised modelling process."
   ]
  },
  {
   "cell_type": "code",
   "execution_count": 1,
   "id": "b1e233f4-3e98-4007-9af4-af47b5ba51be",
   "metadata": {
    "scrolled": true
   },
   "outputs": [],
   "source": [
    "# !pip install bert-extractive-summarizer\n",
    "# !pip install summarizer\n",
    "# !pip install transformers\n",
    "# !pip install tensorflow\n",
    "# !pip install sacremoses==0.0.53\n",
    "# !pip install torch torchvision torchaudio\n",
    "# !pip install sentencepiece\n",
    "# !pip install --upgrade jupyter ipywidgets\n",
    "# !jupyter nbextension enable --py widgetsnbextension"
   ]
  },
  {
   "cell_type": "code",
   "execution_count": 19,
   "id": "46d2ebf8-28ab-43aa-bc14-3afc43f9aafb",
   "metadata": {},
   "outputs": [],
   "source": [
    "# Importing all libraries used: \n",
    "\n",
    "import pandas as pd\n",
    "from transformers import BartForConditionalGeneration, BartTokenizer\n",
    "\n",
    "from transformers import pipeline"
   ]
  },
  {
   "cell_type": "markdown",
   "id": "169aafdf-be6a-49d4-a591-51cd13e46ed7",
   "metadata": {},
   "source": [
    "## Importing Data"
   ]
  },
  {
   "cell_type": "markdown",
   "id": "94d38e01-aa8c-4b94-b006-9659efd29491",
   "metadata": {},
   "source": [
    "### Assassin's Creed"
   ]
  },
  {
   "cell_type": "code",
   "execution_count": 11,
   "id": "fb4d4c14-9a41-4464-a8fc-243950440c47",
   "metadata": {},
   "outputs": [],
   "source": [
    "ass_creed = pd.read_csv('../data/output/ass_creed_no_punc.csv')"
   ]
  },
  {
   "cell_type": "code",
   "execution_count": 12,
   "id": "91681c86-4d4f-40c0-b92e-8e9af4648274",
   "metadata": {},
   "outputs": [
    {
     "name": "stdout",
     "output_type": "stream",
     "text": [
      "<class 'pandas.core.frame.DataFrame'>\n",
      "RangeIndex: 21812 entries, 0 to 21811\n",
      "Data columns (total 16 columns):\n",
      " #   Column                       Non-Null Count  Dtype  \n",
      "---  ------                       --------------  -----  \n",
      " 0   num_games_owned              21812 non-null  int64  \n",
      " 1   num_reviews                  21812 non-null  int64  \n",
      " 2   playtime_forever             21812 non-null  int64  \n",
      " 3   playtime_last_two_weeks      21812 non-null  int64  \n",
      " 4   playtime_at_review           21812 non-null  int64  \n",
      " 5   last_played                  21812 non-null  object \n",
      " 6   review                       21729 non-null  object \n",
      " 7   timestamp_created            21812 non-null  object \n",
      " 8   recommended                  21812 non-null  bool   \n",
      " 9   votes_up                     21812 non-null  int64  \n",
      " 10  votes_funny                  21812 non-null  int64  \n",
      " 11  weighted_vote_score          21812 non-null  float64\n",
      " 12  comment_count                21812 non-null  int64  \n",
      " 13  steam_purchase               21812 non-null  bool   \n",
      " 14  received_for_free            21812 non-null  bool   \n",
      " 15  written_during_early_access  21812 non-null  bool   \n",
      "dtypes: bool(4), float64(1), int64(8), object(3)\n",
      "memory usage: 2.1+ MB\n"
     ]
    }
   ],
   "source": [
    "ass_creed.info()"
   ]
  },
  {
   "cell_type": "code",
   "execution_count": 13,
   "id": "d32fc098-392e-44af-a60d-cf0eec2bfa4a",
   "metadata": {},
   "outputs": [
    {
     "data": {
      "text/html": [
       "<div>\n",
       "<style scoped>\n",
       "    .dataframe tbody tr th:only-of-type {\n",
       "        vertical-align: middle;\n",
       "    }\n",
       "\n",
       "    .dataframe tbody tr th {\n",
       "        vertical-align: top;\n",
       "    }\n",
       "\n",
       "    .dataframe thead th {\n",
       "        text-align: right;\n",
       "    }\n",
       "</style>\n",
       "<table border=\"1\" class=\"dataframe\">\n",
       "  <thead>\n",
       "    <tr style=\"text-align: right;\">\n",
       "      <th></th>\n",
       "      <th>num_games_owned</th>\n",
       "      <th>num_reviews</th>\n",
       "      <th>playtime_forever</th>\n",
       "      <th>playtime_last_two_weeks</th>\n",
       "      <th>playtime_at_review</th>\n",
       "      <th>last_played</th>\n",
       "      <th>review</th>\n",
       "      <th>timestamp_created</th>\n",
       "      <th>recommended</th>\n",
       "      <th>votes_up</th>\n",
       "      <th>votes_funny</th>\n",
       "      <th>weighted_vote_score</th>\n",
       "      <th>comment_count</th>\n",
       "      <th>steam_purchase</th>\n",
       "      <th>received_for_free</th>\n",
       "      <th>written_during_early_access</th>\n",
       "    </tr>\n",
       "  </thead>\n",
       "  <tbody>\n",
       "    <tr>\n",
       "      <th>0</th>\n",
       "      <td>267</td>\n",
       "      <td>21</td>\n",
       "      <td>2856</td>\n",
       "      <td>0</td>\n",
       "      <td>2856</td>\n",
       "      <td>2018-02-18 19:42:24</td>\n",
       "      <td>the only game where i avoid fast travel</td>\n",
       "      <td>2021-01-27 20:27:22</td>\n",
       "      <td>True</td>\n",
       "      <td>3748</td>\n",
       "      <td>185</td>\n",
       "      <td>0.986815</td>\n",
       "      <td>11</td>\n",
       "      <td>True</td>\n",
       "      <td>False</td>\n",
       "      <td>False</td>\n",
       "    </tr>\n",
       "    <tr>\n",
       "      <th>1</th>\n",
       "      <td>0</td>\n",
       "      <td>52</td>\n",
       "      <td>1838</td>\n",
       "      <td>0</td>\n",
       "      <td>1838</td>\n",
       "      <td>2020-07-01 11:12:26</td>\n",
       "      <td>this is the best assassins creed game and prob...</td>\n",
       "      <td>2020-09-19 13:12:59</td>\n",
       "      <td>True</td>\n",
       "      <td>2558</td>\n",
       "      <td>37</td>\n",
       "      <td>0.979318</td>\n",
       "      <td>11</td>\n",
       "      <td>True</td>\n",
       "      <td>False</td>\n",
       "      <td>False</td>\n",
       "    </tr>\n",
       "    <tr>\n",
       "      <th>2</th>\n",
       "      <td>0</td>\n",
       "      <td>2</td>\n",
       "      <td>117391</td>\n",
       "      <td>77</td>\n",
       "      <td>90196</td>\n",
       "      <td>2023-08-26 03:33:05</td>\n",
       "      <td>best game ever iv 'e been playing from day one...</td>\n",
       "      <td>2020-05-23 19:09:36</td>\n",
       "      <td>True</td>\n",
       "      <td>2190</td>\n",
       "      <td>227</td>\n",
       "      <td>0.979193</td>\n",
       "      <td>0</td>\n",
       "      <td>True</td>\n",
       "      <td>False</td>\n",
       "      <td>False</td>\n",
       "    </tr>\n",
       "    <tr>\n",
       "      <th>3</th>\n",
       "      <td>77</td>\n",
       "      <td>4</td>\n",
       "      <td>4719</td>\n",
       "      <td>0</td>\n",
       "      <td>4036</td>\n",
       "      <td>2021-04-03 17:48:13</td>\n",
       "      <td>shanties before panties</td>\n",
       "      <td>2021-03-10 19:36:02</td>\n",
       "      <td>True</td>\n",
       "      <td>2174</td>\n",
       "      <td>897</td>\n",
       "      <td>0.974363</td>\n",
       "      <td>11</td>\n",
       "      <td>True</td>\n",
       "      <td>False</td>\n",
       "      <td>False</td>\n",
       "    </tr>\n",
       "    <tr>\n",
       "      <th>4</th>\n",
       "      <td>0</td>\n",
       "      <td>10</td>\n",
       "      <td>1592</td>\n",
       "      <td>0</td>\n",
       "      <td>1177</td>\n",
       "      <td>2022-02-11 01:37:29</td>\n",
       "      <td>best part of the game are the sea shanties low...</td>\n",
       "      <td>2020-06-27 00:22:26</td>\n",
       "      <td>True</td>\n",
       "      <td>1041</td>\n",
       "      <td>240</td>\n",
       "      <td>0.958593</td>\n",
       "      <td>0</td>\n",
       "      <td>True</td>\n",
       "      <td>False</td>\n",
       "      <td>False</td>\n",
       "    </tr>\n",
       "  </tbody>\n",
       "</table>\n",
       "</div>"
      ],
      "text/plain": [
       "   num_games_owned  num_reviews  playtime_forever  playtime_last_two_weeks  \\\n",
       "0              267           21              2856                        0   \n",
       "1                0           52              1838                        0   \n",
       "2                0            2            117391                       77   \n",
       "3               77            4              4719                        0   \n",
       "4                0           10              1592                        0   \n",
       "\n",
       "   playtime_at_review          last_played  \\\n",
       "0                2856  2018-02-18 19:42:24   \n",
       "1                1838  2020-07-01 11:12:26   \n",
       "2               90196  2023-08-26 03:33:05   \n",
       "3                4036  2021-04-03 17:48:13   \n",
       "4                1177  2022-02-11 01:37:29   \n",
       "\n",
       "                                              review    timestamp_created  \\\n",
       "0            the only game where i avoid fast travel  2021-01-27 20:27:22   \n",
       "1  this is the best assassins creed game and prob...  2020-09-19 13:12:59   \n",
       "2  best game ever iv 'e been playing from day one...  2020-05-23 19:09:36   \n",
       "3                            shanties before panties  2021-03-10 19:36:02   \n",
       "4  best part of the game are the sea shanties low...  2020-06-27 00:22:26   \n",
       "\n",
       "   recommended  votes_up  votes_funny  weighted_vote_score  comment_count  \\\n",
       "0         True      3748          185             0.986815             11   \n",
       "1         True      2558           37             0.979318             11   \n",
       "2         True      2190          227             0.979193              0   \n",
       "3         True      2174          897             0.974363             11   \n",
       "4         True      1041          240             0.958593              0   \n",
       "\n",
       "   steam_purchase  received_for_free  written_during_early_access  \n",
       "0            True              False                        False  \n",
       "1            True              False                        False  \n",
       "2            True              False                        False  \n",
       "3            True              False                        False  \n",
       "4            True              False                        False  "
      ]
     },
     "execution_count": 13,
     "metadata": {},
     "output_type": "execute_result"
    }
   ],
   "source": [
    "ass_creed.head()"
   ]
  },
  {
   "cell_type": "markdown",
   "id": "a87ff284-b6c4-4822-ac09-0f7d5b5b887e",
   "metadata": {},
   "source": [
    "We will be trying out a few different Text Summarization models with a few reviews, and see whether the model does a good job at properly summarizing the reviews."
   ]
  },
  {
   "cell_type": "markdown",
   "id": "74d6aa84-ff79-4888-9277-fb25fdd80c3c",
   "metadata": {},
   "source": [
    "## Text Summarization Models\n",
    "\n",
    "### Hugging Face: Bart Large CNN\n",
    "\n",
    "First, attempting to Hugging Face's [bart large cnn model](https://huggingface.co/facebook/bart-large-cnn), a model mainly trained on CNN Daily Mail articles."
   ]
  },
  {
   "cell_type": "code",
   "execution_count": 14,
   "id": "9e6e5aa7-2390-4139-b3b6-e6a3e793278f",
   "metadata": {},
   "outputs": [],
   "source": [
    "model_name = \"facebook/bart-large-cnn\"\n",
    "model = BartForConditionalGeneration.from_pretrained(model_name)\n",
    "tokenizer = BartTokenizer.from_pretrained(model_name)\n",
    "\n",
    "def generate_summary(text):\n",
    "    input_ids = tokenizer.encode(text, return_tensors=\"pt\", max_length=100, truncation=True)\n",
    "    summary_ids = model.generate(input_ids, max_length=30, min_length = 10, num_beams=4, length_penalty=2.0, early_stopping=True)\n",
    "    summary_text = tokenizer.decode(summary_ids[0], skip_special_tokens=True)\n",
    "    return summary_text"
   ]
  },
  {
   "cell_type": "markdown",
   "id": "6d865e7f-1090-402c-8441-9a2663ff24d5",
   "metadata": {},
   "source": [
    "We will try this on individual reviews first to see the performance."
   ]
  },
  {
   "cell_type": "code",
   "execution_count": 15,
   "id": "2ede68fd-f901-455a-b609-897c8337a0dc",
   "metadata": {},
   "outputs": [
    {
     "data": {
      "text/plain": [
       "\"best game ever iv 'e been playing from day one (love it and i'm 75 years young arrrrr matey)\""
      ]
     },
     "execution_count": 15,
     "metadata": {},
     "output_type": "execute_result"
    }
   ],
   "source": [
    "# Generating summary of the third review\n",
    "generate_summary(ass_creed['review'][2])"
   ]
  },
  {
   "cell_type": "code",
   "execution_count": 16,
   "id": "b5585c13-aada-43eb-b4a1-59ef847f8db0",
   "metadata": {},
   "outputs": [
    {
     "data": {
      "text/plain": [
       "\"best game ever iv 'e been playing from day one (love it and i 'm 75 years young arrrrr matey\""
      ]
     },
     "execution_count": 16,
     "metadata": {},
     "output_type": "execute_result"
    }
   ],
   "source": [
    "# Comparing with the original review\n",
    "ass_creed['review'][2]"
   ]
  },
  {
   "cell_type": "markdown",
   "id": "6a77cada-c33a-42d2-aadf-74ac0140501f",
   "metadata": {},
   "source": [
    "We can see that the model essentially just extracted the whole original review. Let's try this same model on a longer review."
   ]
  },
  {
   "cell_type": "code",
   "execution_count": 17,
   "id": "7fedf22a-af72-4dcf-9e5a-76a253d00b67",
   "metadata": {},
   "outputs": [
    {
     "data": {
      "text/plain": [
       "'Gorgeous graphics detailed immersive environments very strong voice -acting tons to explore lots of environmental diversity does extremely well to encourage a sense of'"
      ]
     },
     "execution_count": 17,
     "metadata": {},
     "output_type": "execute_result"
    }
   ],
   "source": [
    "# Generating summary of the nineteenth review\n",
    "generate_summary(ass_creed['review'][18])"
   ]
  },
  {
   "cell_type": "code",
   "execution_count": 18,
   "id": "f8c7a4dc-40e4-4869-b6c1-45d7a268156f",
   "metadata": {},
   "outputs": [
    {
     "data": {
      "text/plain": [
       "\"[h1]richly populated extremely immersive // recommended for ac fans pirate fans alike [/h1] significantly less boring hand -holding in the main campaign than the previous entry of the series reliably solid parkour mechanics there were a few bugs glitches but were very minor gorgeous graphics detailed immersive environments very strong voice -acting tons to explore lots of environmental diversity does extremely well to encourage a sense of adventure ship sailing upgrade mechanics add a lot of depth to the game exploration doesn 't simply consist of empty fetch -quests lookout points there is a lot of treasure to be found myriad activities to be done naval combat seems to have found a comfortable middle -ground between simplicity immersive completxity it all feels very sensible to pick up without losing the warmth of immersion (and it 's very fun hunting crafting mechanics actually felt useful worthwhile (as opposed to ac3 this entry probably boasts the most interesting likeable protagonist huge playable area with a plethora of accessible locations combat was about as solid as ever didn 't do much to innovate in comparison to other entries of the series but certainly works well this game requires uplay this game requires uplay this game requires uplay though the main plot was not horrible it felt considerably weaker than other entries in the series so many tailing /eavesdropping missions personally i 've always found these to be more frustrating than entertaining though combat itself works well the camera work was considerably less than perfect [h1]lockeproposal's big day out [/h1] [url=http://steamcommunity.com/groups/bigdayout#]community group [/url] [url=http://store.steampowered.com/curator/7611703/]curator page [/url] [url=https://www.reddit.com/r/serioussteamreviews/]serious steam reviews subreddit [/url]\""
      ]
     },
     "execution_count": 18,
     "metadata": {},
     "output_type": "execute_result"
    }
   ],
   "source": [
    "# Comparing with the original review\n",
    "ass_creed['review'][18]"
   ]
  },
  {
   "cell_type": "markdown",
   "id": "871fea73-36e9-49f1-95c6-5d941a9d1d41",
   "metadata": {},
   "source": [
    "For the longer review, it managed to pick out a sentence from the first half of the review, however, the sentence does not summarise the review well."
   ]
  },
  {
   "cell_type": "markdown",
   "id": "6c2bcfc6-f34a-4026-a6ec-e44afe72fea0",
   "metadata": {},
   "source": [
    "### Hugging Face: T5 Small Model\n",
    "\n",
    "Trying out a different model from the Hugging Face library: T5 Small"
   ]
  },
  {
   "cell_type": "code",
   "execution_count": 40,
   "id": "c7b093d6-f588-4e1a-8c82-e8d94a62cff9",
   "metadata": {
    "scrolled": true
   },
   "outputs": [],
   "source": [
    "# Instantiating our model\n",
    "summarizer = pipeline(\n",
    "    task=\"summarization\",\n",
    "    model=\"t5-small\",\n",
    "    min_length=5,\n",
    "    max_length=50,\n",
    "    truncation=True)"
   ]
  },
  {
   "cell_type": "code",
   "execution_count": 41,
   "id": "f086d880-6b34-4d0f-9b00-f0620ea82c78",
   "metadata": {},
   "outputs": [
    {
     "name": "stderr",
     "output_type": "stream",
     "text": [
      "Your max_length is set to 50, but your input_length is only 38. Since this is a summarization task, where outputs shorter than the input are typically wanted, you might consider decreasing max_length manually, e.g. summarizer('...', max_length=19)\n"
     ]
    },
    {
     "data": {
      "text/plain": [
       "[{'summary_text': \"best game ever iv 'e been playing from day one (love it and i 'm 75 years young arrrr matey . i'm a 75-year-old arr\"}]"
      ]
     },
     "execution_count": 41,
     "metadata": {},
     "output_type": "execute_result"
    }
   ],
   "source": [
    "# Performing text summarization on the same examples as above to test it out\n",
    "summarizer(ass_creed['review'][2])"
   ]
  },
  {
   "cell_type": "code",
   "execution_count": 42,
   "id": "30deaf1a-c8ba-4a25-b05f-f81d0d62ff24",
   "metadata": {},
   "outputs": [
    {
     "data": {
      "text/plain": [
       "\"best game ever iv 'e been playing from day one (love it and i 'm 75 years young arrrrr matey\""
      ]
     },
     "execution_count": 42,
     "metadata": {},
     "output_type": "execute_result"
    }
   ],
   "source": [
    "# Comparing with the original\n",
    "ass_creed['review'][2]"
   ]
  },
  {
   "cell_type": "markdown",
   "id": "f10cfbfd-2d3b-4fa0-9543-e67086dae171",
   "metadata": {},
   "source": [
    "We can see that similar to the previous Bart Large CNN model, the T5 Small Model also just took the entire review, and even repeated a line from it. Let's see how well it does for the longer review."
   ]
  },
  {
   "cell_type": "code",
   "execution_count": 43,
   "id": "e499ea10-2d5c-469c-b43e-2fd02de460d6",
   "metadata": {},
   "outputs": [
    {
     "data": {
      "text/plain": [
       "[{'summary_text': \"combat was about as solid as ever didn 't do much to innovate in comparison to other entries of the series . the main plot was not horrible it felt considerably weaker than other entries in the series so many tailing /e\"}]"
      ]
     },
     "execution_count": 43,
     "metadata": {},
     "output_type": "execute_result"
    }
   ],
   "source": [
    "summarizer(ass_creed['review'][18])"
   ]
  },
  {
   "cell_type": "code",
   "execution_count": 44,
   "id": "4c157e11-b81b-4210-bf4e-6507e1a2e662",
   "metadata": {},
   "outputs": [
    {
     "data": {
      "text/plain": [
       "\"[h1]richly populated extremely immersive // recommended for ac fans pirate fans alike [/h1] significantly less boring hand -holding in the main campaign than the previous entry of the series reliably solid parkour mechanics there were a few bugs glitches but were very minor gorgeous graphics detailed immersive environments very strong voice -acting tons to explore lots of environmental diversity does extremely well to encourage a sense of adventure ship sailing upgrade mechanics add a lot of depth to the game exploration doesn 't simply consist of empty fetch -quests lookout points there is a lot of treasure to be found myriad activities to be done naval combat seems to have found a comfortable middle -ground between simplicity immersive completxity it all feels very sensible to pick up without losing the warmth of immersion (and it 's very fun hunting crafting mechanics actually felt useful worthwhile (as opposed to ac3 this entry probably boasts the most interesting likeable protagonist huge playable area with a plethora of accessible locations combat was about as solid as ever didn 't do much to innovate in comparison to other entries of the series but certainly works well this game requires uplay this game requires uplay this game requires uplay though the main plot was not horrible it felt considerably weaker than other entries in the series so many tailing /eavesdropping missions personally i 've always found these to be more frustrating than entertaining though combat itself works well the camera work was considerably less than perfect [h1]lockeproposal's big day out [/h1] [url=http://steamcommunity.com/groups/bigdayout#]community group [/url] [url=http://store.steampowered.com/curator/7611703/]curator page [/url] [url=https://www.reddit.com/r/serioussteamreviews/]serious steam reviews subreddit [/url]\""
      ]
     },
     "execution_count": 44,
     "metadata": {},
     "output_type": "execute_result"
    }
   ],
   "source": [
    "ass_creed['review'][18]"
   ]
  },
  {
   "cell_type": "markdown",
   "id": "c8db11c7-fbdc-4123-be56-0ad791c3c5fc",
   "metadata": {},
   "source": [
    "Comparing the results to the original text, similar to the Bart Large CNN model, the T5 Small model just extracts a small portion of text from the middle of the review. However, this again does not successfully summarize our text very well."
   ]
  },
  {
   "cell_type": "markdown",
   "id": "b2b96dc3-d3a1-4205-b9b1-0b5b84c5fd34",
   "metadata": {},
   "source": [
    "### Hugging Face: Pegasus Xsum\n",
    "\n",
    "Our models have not been doing very well at summarising the review text on just two of our test reviews. Let's test out one more model before moving on to try a different type of model. We will be trying out the [Pegasus Xsum Model](https://huggingface.co/google/pegasus-xsum) which was trained on public Common Crawl web scrape, and HugeNews data."
   ]
  },
  {
   "cell_type": "code",
   "execution_count": 51,
   "id": "65a8b6fc-b54f-402a-924d-b7aa7c798c81",
   "metadata": {
    "scrolled": true
   },
   "outputs": [
    {
     "name": "stderr",
     "output_type": "stream",
     "text": [
      "Some weights of PegasusForConditionalGeneration were not initialized from the model checkpoint at google/pegasus-xsum and are newly initialized: ['model.decoder.embed_positions.weight', 'model.encoder.embed_positions.weight']\n",
      "You should probably TRAIN this model on a down-stream task to be able to use it for predictions and inference.\n"
     ]
    }
   ],
   "source": [
    "summypeg = pipeline(\"summarization\", model= \"google/pegasus-xsum\")"
   ]
  },
  {
   "cell_type": "code",
   "execution_count": 52,
   "id": "b8a63de3-b787-4223-8058-b8ce2c3292d0",
   "metadata": {},
   "outputs": [
    {
     "data": {
      "text/plain": [
       "[{'summary_text': 'Happy birthday to one of my all-time favourite footballers, Paul Gascoigne.'}]"
      ]
     },
     "execution_count": 52,
     "metadata": {},
     "output_type": "execute_result"
    }
   ],
   "source": [
    "# Using our model on the test reviews\n",
    "summypeg(ass_creed['review'][2], max_length=20, min_length=5, do_sample=False)"
   ]
  },
  {
   "cell_type": "code",
   "execution_count": 53,
   "id": "ef4314fb-0784-4435-97a6-3eb117f914c0",
   "metadata": {},
   "outputs": [
    {
     "data": {
      "text/plain": [
       "\"best game ever iv 'e been playing from day one (love it and i 'm 75 years young arrrrr matey\""
      ]
     },
     "execution_count": 53,
     "metadata": {},
     "output_type": "execute_result"
    }
   ],
   "source": [
    "# Comparing it to the original\n",
    "ass_creed['review'][2]"
   ]
  },
  {
   "cell_type": "code",
   "execution_count": 54,
   "id": "149b6035-e80d-4ff2-9e7b-afb3d2f220f8",
   "metadata": {},
   "outputs": [
    {
     "data": {
      "text/plain": [
       "[{'summary_text': 'Pirates of the Caribbean: Big Day Out is the latest entry in one of the most popular video game series in the world.'}]"
      ]
     },
     "execution_count": 54,
     "metadata": {},
     "output_type": "execute_result"
    }
   ],
   "source": [
    "# Longer test review\n",
    "summypeg(ass_creed['review'][18], max_length=30, min_length=10, do_sample=False)"
   ]
  },
  {
   "cell_type": "code",
   "execution_count": 55,
   "id": "7907ba0a-c717-4fbb-9c3e-fc94b8af287b",
   "metadata": {},
   "outputs": [
    {
     "data": {
      "text/plain": [
       "\"[h1]richly populated extremely immersive // recommended for ac fans pirate fans alike [/h1] significantly less boring hand -holding in the main campaign than the previous entry of the series reliably solid parkour mechanics there were a few bugs glitches but were very minor gorgeous graphics detailed immersive environments very strong voice -acting tons to explore lots of environmental diversity does extremely well to encourage a sense of adventure ship sailing upgrade mechanics add a lot of depth to the game exploration doesn 't simply consist of empty fetch -quests lookout points there is a lot of treasure to be found myriad activities to be done naval combat seems to have found a comfortable middle -ground between simplicity immersive completxity it all feels very sensible to pick up without losing the warmth of immersion (and it 's very fun hunting crafting mechanics actually felt useful worthwhile (as opposed to ac3 this entry probably boasts the most interesting likeable protagonist huge playable area with a plethora of accessible locations combat was about as solid as ever didn 't do much to innovate in comparison to other entries of the series but certainly works well this game requires uplay this game requires uplay this game requires uplay though the main plot was not horrible it felt considerably weaker than other entries in the series so many tailing /eavesdropping missions personally i 've always found these to be more frustrating than entertaining though combat itself works well the camera work was considerably less than perfect [h1]lockeproposal's big day out [/h1] [url=http://steamcommunity.com/groups/bigdayout#]community group [/url] [url=http://store.steampowered.com/curator/7611703/]curator page [/url] [url=https://www.reddit.com/r/serioussteamreviews/]serious steam reviews subreddit [/url]\""
      ]
     },
     "execution_count": 55,
     "metadata": {},
     "output_type": "execute_result"
    }
   ],
   "source": [
    "# Original review\n",
    "ass_creed['review'][18]"
   ]
  },
  {
   "cell_type": "markdown",
   "id": "3fb0188b-bddb-40ee-b1f7-b7fc2eda2b79",
   "metadata": {},
   "source": [
    "We can see that the text summarizations were completely unrelated to what was mentioned in the reviews, even bringing in a seprate game into its summarization."
   ]
  },
  {
   "cell_type": "markdown",
   "id": "66ca25e3-497e-4b59-a608-c634c63263a4",
   "metadata": {},
   "source": [
    "As these models have not even passed the initial two review sample stage, let's move on to a different unsupervised model. The next notebook will be focusing on using Open AI's GPT3.5 Turbo to perform text summarization on our data."
   ]
  },
  {
   "cell_type": "code",
   "execution_count": null,
   "id": "d6f772fb-4bf4-4e0e-b0da-790777f41e6c",
   "metadata": {},
   "outputs": [],
   "source": []
  }
 ],
 "metadata": {
  "kernelspec": {
   "display_name": "Python 3 (ipykernel)",
   "language": "python",
   "name": "python3"
  },
  "language_info": {
   "codemirror_mode": {
    "name": "ipython",
    "version": 3
   },
   "file_extension": ".py",
   "mimetype": "text/x-python",
   "name": "python",
   "nbconvert_exporter": "python",
   "pygments_lexer": "ipython3",
   "version": "3.8.17"
  }
 },
 "nbformat": 4,
 "nbformat_minor": 5
}
